{
 "cells": [
  {
   "cell_type": "markdown",
   "metadata": {},
   "source": [
    "# Data normalizer"
   ]
  },
  {
   "cell_type": "markdown",
   "metadata": {},
   "source": [
    "## Loading all data sources"
   ]
  },
  {
   "cell_type": "code",
   "execution_count": 1,
   "metadata": {
    "collapsed": true
   },
   "outputs": [],
   "source": [
    "import pandas as pd\n",
    "import numpy as np\n",
    "import json"
   ]
  },
  {
   "cell_type": "markdown",
   "metadata": {},
   "source": [
    "# Binance processing"
   ]
  },
  {
   "cell_type": "code",
   "execution_count": 9,
   "metadata": {},
   "outputs": [],
   "source": [
    "def get_binance_df():\n",
    "\n",
    "    df_binance = pd.read_csv(\"../data/btcdata-1m.csv\")\n",
    "    df_binance.index = pd.to_datetime(df_binance[\"time\"])\n",
    "    df_binance.drop([\"time\", \"nothing\"], axis = 1, inplace=True)\n",
    "    \n",
    "    return df_binance"
   ]
  },
  {
   "cell_type": "markdown",
   "metadata": {},
   "source": [
    "# Google Trends processing"
   ]
  },
  {
   "cell_type": "code",
   "execution_count": 8,
   "metadata": {},
   "outputs": [],
   "source": [
    "def get_google_df():\n",
    "    \n",
    "    df_google = pd.read_csv(\"../data/btc-gtrends.csv\")\n",
    "    df_google.index = pd.to_datetime(df_google[\"date\"])\n",
    "    df_google.drop([\"date\", \"BTCUSD\", \"BTCUSDT\", \"isPartial\"], axis = 1, inplace=True)\n",
    "    \n",
    "    df_google2 = pd.read_csv(\"../data/eth-gtrends.csv\")\n",
    "    df_google2.index = pd.to_datetime(df_google2[\"date\"])\n",
    "    df_google2.drop([\"date\", \"ETHUSD\", \"isPartial\"], axis = 1, inplace=True)\n",
    "    \n",
    "    df_google3 = pd.read_csv(\"../data/gen-gtrends.csv\")\n",
    "    df_google3.index = pd.to_datetime(df_google3[\"date\"])\n",
    "    df_google3.drop([\"date\", \"isPartial\"], axis = 1, inplace=True)\n",
    "    \n",
    "    df_google = pd.merge(df_google, df_google2, left_index=True, right_index=True)\n",
    "    df_google = pd.merge(df_google, df_google3, left_index=True, right_index=True)\n",
    "    \n",
    "    return df_google    "
   ]
  },
  {
   "cell_type": "markdown",
   "metadata": {},
   "source": [
    "# Twitter processing"
   ]
  },
  {
   "cell_type": "code",
   "execution_count": 7,
   "metadata": {
    "collapsed": true
   },
   "outputs": [],
   "source": [
    "def get_tweets_df():\n",
    "\n",
    "    tweets = open(\"../data/tweetsbtc.json\", \"r\")\n",
    "    lines = [json.loads(line) for line in tweets.readlines()]\n",
    "    tweets = pd.DataFrame(lines)\n",
    "    tweets.index = pd.to_datetime(tweets[\"created_at\"])\n",
    "    tweets.drop(\"created_at\", axis=1, inplace=True)\n",
    "    \n",
    "    df_tweets = pd.DataFrame([tweets[\"polarity\"].groupby(pd.TimeGrouper(\"T\")).mean(), \n",
    "                         tweets[\"subjectivity\"].groupby(pd.TimeGrouper(\"T\")).mean()])\n",
    "\n",
    "    df_tweets = pd.DataFrame.transpose(df_tweets)\n",
    "    \n",
    "    return df_tweets"
   ]
  },
  {
   "cell_type": "code",
   "execution_count": 14,
   "metadata": {},
   "outputs": [
    {
     "data": {
      "text/plain": [
       "6492906"
      ]
     },
     "execution_count": 14,
     "metadata": {},
     "output_type": "execute_result"
    }
   ],
   "source": [
    "tweets.size"
   ]
  },
  {
   "cell_type": "markdown",
   "metadata": {},
   "source": [
    "# Merging data"
   ]
  },
  {
   "cell_type": "code",
   "execution_count": 13,
   "metadata": {},
   "outputs": [],
   "source": [
    "def normalize_data_df():\n",
    "\n",
    "    df_binance = get_binance_df()\n",
    "    df_google = get_google_df()\n",
    "    df_tweets = get_tweets_df()\n",
    "\n",
    "    df_final = pd.merge(df_binance, df_google, left_index=True, right_index=True)\n",
    "    df_final = pd.merge(df_final, df_tweets, left_index=True, right_index=True)\n",
    "    \n",
    "    df_final = df_final.drop_duplicates(subset=\"close\")\n",
    "    df_final.to_csv(\"../data/fulldata.csv\")"
   ]
  },
  {
   "cell_type": "code",
   "execution_count": null,
   "metadata": {},
   "outputs": [],
   "source": [
    "normalize_data_df()"
   ]
  }
 ],
 "metadata": {
  "kernelspec": {
   "display_name": "Python 3",
   "language": "python",
   "name": "python3"
  },
  "language_info": {
   "codemirror_mode": {
    "name": "ipython",
    "version": 3
   },
   "file_extension": ".py",
   "mimetype": "text/x-python",
   "name": "python",
   "nbconvert_exporter": "python",
   "pygments_lexer": "ipython3",
   "version": "3.6.1"
  }
 },
 "nbformat": 4,
 "nbformat_minor": 2
}
