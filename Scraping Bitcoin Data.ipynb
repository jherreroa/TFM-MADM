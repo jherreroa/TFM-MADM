{
 "cells": [
  {
   "cell_type": "markdown",
   "metadata": {},
   "source": [
    "# Libraries"
   ]
  },
  {
   "cell_type": "code",
   "execution_count": 8,
   "metadata": {
    "collapsed": true
   },
   "outputs": [],
   "source": [
    "import requests\n",
    "import time\n",
    "import pandas as pd\n",
    "from multiprocessing import Process\n",
    "import os\n",
    "from pytrends.request import TrendReq\n",
    "import re\n",
    "import time\n",
    "import datetime"
   ]
  },
  {
   "cell_type": "markdown",
   "metadata": {},
   "source": [
    "# Environment variables"
   ]
  },
  {
   "cell_type": "code",
   "execution_count": 2,
   "metadata": {
    "collapsed": true
   },
   "outputs": [],
   "source": [
    "datapath = \"../data\""
   ]
  },
  {
   "cell_type": "code",
   "execution_count": 6,
   "metadata": {
    "collapsed": true
   },
   "outputs": [],
   "source": [
    "def get_timestamp():\n",
    "    return datetime.datetime.fromtimestamp(time.time()) \\\n",
    "    .strftime('%Y-%m-%d %H:%M:%S')"
   ]
  },
  {
   "cell_type": "markdown",
   "metadata": {},
   "source": [
    "# Binance"
   ]
  },
  {
   "cell_type": "code",
   "execution_count": 182,
   "metadata": {
    "collapsed": true
   },
   "outputs": [],
   "source": [
    "def base_df(path):\n",
    "    \"\"\"\"\"\"\n",
    "\n",
    "    df = pd.DataFrame(columns=[\"time\", \"open\", \"high\", \"low\", \"close\", \"volume\", \n",
    "                          \"closetime\", \"quote-volume\", \"ntrades\", \"taker-base-vol\",\n",
    "                          \"taker-quote-vol\"])\n",
    "    df.index = df[\"time\"]\n",
    "    df.drop(\"time\", axis = 1, inplace=True)\n",
    "    df.to_csv(path)\n",
    "\n",
    "def get_from_binance(fsym, tsym, interval, limit):\n",
    "    \n",
    "    base_url = \"https://api.binance.com/api/v1/klines\"\n",
    "    params = {\"symbol\" : fsym+tsym, \"interval\": interval, \"limit\": limit}\n",
    "    filename = \"btcdata-{}.csv\".format(interval)\n",
    "    fullpath = datapath + \"/\" + filename\n",
    "    \n",
    "    response = requests.get(base_url, params=params)\n",
    "        \n",
    "    # Escogemos la información de interés\n",
    "    df = pd.DataFrame(response.json())\n",
    "\n",
    "    df.columns = [\"time\", \"open\", \"high\", \"low\", \"close\", \"volume\", \n",
    "                 \"closetime\", \"quote-volume\", \"ntrades\", \"taker-base-vol\",\n",
    "                 \"taker-quote-vol\", \"nothing\"]\n",
    "\n",
    "    df.index = pd.to_datetime(df[\"time\"], unit = \"ms\")\n",
    "    df.drop(\"time\", axis = 1, inplace = True)\n",
    "    \n",
    "    dffull = pd.read_csv(fullpath, index_col = 0)\n",
    "    dffull = dffull.append(df)\n",
    "    dffull.to_csv(fullpath)\n",
    "        \n",
    "\n",
    "def get_data(fsym, tsym, interval, limit, step_time):\n",
    "    \"\"\"\"\"\"    \n",
    "    filename = \"btcdata-{}.csv\".format(interval)\n",
    "    fullpath = datapath + \"/\" + filename\n",
    "    if not os.path.exists(fullpath):\n",
    "        base_df(fullpath)\n",
    "    \n",
    "    # Tratamiento inicial (500 registros máximo)\n",
    "    get_from_binance(fsym, tsym, interval, 500)\n",
    "    \n",
    "    # Obtenemos los datos por día\n",
    "    while True:\n",
    "        print(\"Update of file {} at {}\".format(fullpath, get_timestamp()))\n",
    "        time.sleep(limit*step_time)\n",
    "        # Tratamiento inicial\n",
    "        get_from_binance(fsym, tsym, interval, limit)\n",
    "        "
   ]
  },
  {
   "cell_type": "markdown",
   "metadata": {},
   "source": [
    "# Google Trends"
   ]
  },
  {
   "cell_type": "code",
   "execution_count": 162,
   "metadata": {
    "collapsed": true
   },
   "outputs": [],
   "source": [
    "def get_gtrends_index(terms, timeframe, timesleep):\n",
    "    \n",
    "    pytrend = TrendReq()\n",
    "    filename = \"bitcoin-gtrends.csv\"\n",
    "    fullpath = datapath + \"/\" + filename\n",
    "    df = pd.DataFrame(columns=[\"date\"] + terms + [\"isPartial\"])\n",
    "    df.index = df[\"date\"]\n",
    "    df.drop(\"date\", axis = 1, inplace=True)\n",
    "    df.to_csv(fullpath)\n",
    "    \n",
    "    while True:\n",
    "        pytrend.build_payload(kw_list=related_terms, timeframe=timeframe)\n",
    "        interest_over_time_df = pytrend.interest_over_time()\n",
    "        \n",
    "        dffull = pd.read_csv(fullpath, index_col = 0)\n",
    "        dffull = dffull.append(interest_over_time_df)\n",
    "        dffull.to_csv(fullpath)\n",
    "        print(\"Update of file {} at {}\".format(fullpath, get_timestamp()))\n",
    "        time.sleep(timesleep)\n",
    "        \n",
    "related_terms = ['Bitcoin', \"Cryptocurrency\", \"Blockchain\", \"BTC\", \"BTCUSD\"]\n",
    "timeframe = 'now 1-H'"
   ]
  },
  {
   "cell_type": "markdown",
   "metadata": {},
   "source": [
    "# Twitter"
   ]
  },
  {
   "cell_type": "code",
   "execution_count": 6,
   "metadata": {},
   "outputs": [],
   "source": [
    "from tweepy import Stream\n",
    "from tweepy import OAuthHandler\n",
    "from tweepy.streaming import StreamListener\n",
    "import json\n",
    "import textblob as textblob\n",
    "from textblob import TextBlob\n",
    "\n",
    "# https://apps.twitter.com/\n",
    "#consumer key, consumer secret, access token, access secret.\n",
    "ckey=\"H80l007aSO4b8TIJrkeBJhFUt\"\n",
    "csecret=\"Lts38d9FkBt8XSid0ZKK8wMn2TEoOh3uep3S78JJEx8OsnH1lP\"\n",
    "atoken=\"100423068-uNVEchqU6O4Mov4fdzpieSJCKLMoS41ZyXdOy5m6\"\n",
    "asecret=\"hRw0zw68Wcwjj47LZS50cENrNcmiMNebRPuCTOihVzmKE\"\n",
    "\n",
    "filename = 'tweets.json'\n",
    "fullpath = datapath + \"/\" + filename\n",
    "tweet_struct = {\"tweets\": []}\n",
    "empty = \"\"\n",
    "\n",
    "# Getting 3 tweets per second\n",
    "#override tweepy.StreamListener to add logic to on_status\n",
    "class StdOutlistener(StreamListener):\n",
    "    def on_data(self, data):\n",
    "        # Get tweet\n",
    "        all_data = json.loads(data)\n",
    "        \n",
    "        # Checking if there are data\n",
    "        if \"text\" in all_data:\n",
    "        \n",
    "            # Normalizing tweet text\n",
    "            tweet_text = normalize_tweet(all_data[\"text\"])\n",
    "\n",
    "            # Checking if it is empty\n",
    "            if tweet_text != empty:\n",
    "            \n",
    "                # Analyzing tweet (polarity and subjectivity)\n",
    "                tweet_analysis = TextBlob(tweet_text)\n",
    "\n",
    "                # If exist content and polarity is different to 0\n",
    "                if tweet_analysis.sentiment.polarity != 0:\n",
    "\n",
    "                    # Aggregating information\n",
    "                    tweet_dict = {\n",
    "                                  \"created_at\": all_data[\"created_at\"],\n",
    "                                  \"text\": tweet_text,\n",
    "                                  \"polarity\": tweet_analysis.sentiment.polarity,\n",
    "                                  \"subjectivity\": tweet_analysis.sentiment.subjectivity\n",
    "                                 }\n",
    "\n",
    "                    # Open json text file to save the tweets\n",
    "                    with open(fullpath, 'a') as tf:\n",
    "\n",
    "                        # Write the json data directly to the file\n",
    "                        json.dump(tweet_dict, tf)\n",
    "                        # Alternatively: tf.write(json.dumps(all_data))\n",
    "                        # Write a new line\n",
    "                        tf.write('\\n')\n",
    "                \n",
    "        return True\n",
    "\n",
    "    def on_error(self, status):\n",
    "        print(status)\n",
    "    \n",
    "auth = OAuthHandler(ckey, csecret)\n",
    "auth.set_access_token(atoken, asecret)"
   ]
  },
  {
   "cell_type": "code",
   "execution_count": 4,
   "metadata": {
    "collapsed": true
   },
   "outputs": [],
   "source": [
    "def normalize_tweet(tweet_text):\n",
    "    # Removing tweet references\n",
    "    tweet_text = re.sub(r\"@[\\w]*\", \"\", tweet_text)\n",
    "    # Removing hashtags\n",
    "    tweet_text = re.sub(r\"#[\\w]*\", \"\", tweet_text)\n",
    "    # Removing url's\n",
    "    tweet_text = re.sub(r\"http\\S+\", \"\", tweet_text)\n",
    "    # Removing  break lines\n",
    "    tweet_text = re.sub(r\"(\\n)\", \"\", tweet_text)\n",
    "    # Removing anormal characters\n",
    "    tweet_text = tweet_text.encode('ascii', 'ignore').decode(\"utf-8\")\n",
    "    # Removing if RT tag\n",
    "    tweet_text = re.sub(r\"RT : \", \"\", tweet_text)\n",
    "    \n",
    "    return tweet_text.strip()"
   ]
  },
  {
   "cell_type": "code",
   "execution_count": 5,
   "metadata": {
    "collapsed": true
   },
   "outputs": [],
   "source": [
    "def stream_tweets():\n",
    "    twitterStream = Stream(auth, StdOutlistener())\n",
    "    twitterStream.filter(track=['Bitcoin', 'BTC', 'BTCUSD', 'BTCUSDT'])"
   ]
  },
  {
   "cell_type": "code",
   "execution_count": null,
   "metadata": {},
   "outputs": [],
   "source": [
    "stream_tweets()"
   ]
  },
  {
   "cell_type": "code",
   "execution_count": 155,
   "metadata": {
    "collapsed": true
   },
   "outputs": [],
   "source": [
    "#a = open(\"../data/tweets.json\", \"r\")\n",
    "#lines = [json.loads(line) for line in a.readlines()]"
   ]
  },
  {
   "cell_type": "markdown",
   "metadata": {},
   "source": [
    "# NewsApi"
   ]
  },
  {
   "cell_type": "code",
   "execution_count": null,
   "metadata": {
    "collapsed": true
   },
   "outputs": [],
   "source": [
    "from newsapi import NewsApiClient\n",
    "newsapi = NewsApiClient(api_key='16cb76b0e22b462392d7cfaf9cdbe31d')\n",
    "\n",
    "all_articles = newsapi.get_everything(q='bitcoin',\n",
    "                                      sources='bbc-news,the-verge',\n",
    "                                      domains='bbc.co.uk,techcrunch.com',\n",
    "                                      from_parameter='2018-04-01',\n",
    "                                      language='en',\n",
    "                                      sort_by='relevancy',\n",
    "                                      page=1)"
   ]
  },
  {
   "cell_type": "markdown",
   "metadata": {},
   "source": [
    "# Programa principal"
   ]
  },
  {
   "cell_type": "code",
   "execution_count": 186,
   "metadata": {},
   "outputs": [
    {
     "name": "stderr",
     "output_type": "stream",
     "text": [
      "Process Process-24:\n",
      "Process Process-22:\n",
      "Process Process-23:\n",
      "Process Process-25:\n",
      "Process Process-21:\n",
      "Traceback (most recent call last):\n",
      "Traceback (most recent call last):\n",
      "Traceback (most recent call last):\n",
      "Traceback (most recent call last):\n",
      "Traceback (most recent call last):\n",
      "  File \"/Users/justoherreroamoros/anaconda/lib/python3.6/multiprocessing/process.py\", line 249, in _bootstrap\n",
      "    self.run()\n",
      "  File \"/Users/justoherreroamoros/anaconda/lib/python3.6/multiprocessing/process.py\", line 249, in _bootstrap\n",
      "    self.run()\n",
      "  File \"/Users/justoherreroamoros/anaconda/lib/python3.6/multiprocessing/process.py\", line 249, in _bootstrap\n",
      "    self.run()\n",
      "  File \"/Users/justoherreroamoros/anaconda/lib/python3.6/multiprocessing/process.py\", line 249, in _bootstrap\n",
      "    self.run()\n",
      "  File \"/Users/justoherreroamoros/anaconda/lib/python3.6/multiprocessing/process.py\", line 93, in run\n",
      "    self._target(*self._args, **self._kwargs)\n",
      "  File \"/Users/justoherreroamoros/anaconda/lib/python3.6/site-packages/requests/packages/urllib3/contrib/pyopenssl.py\", line 277, in recv_into\n",
      "    return self.connection.recv_into(*args, **kwargs)\n",
      "  File \"/Users/justoherreroamoros/anaconda/lib/python3.6/multiprocessing/process.py\", line 93, in run\n",
      "    self._target(*self._args, **self._kwargs)\n",
      "  File \"/Users/justoherreroamoros/anaconda/lib/python3.6/multiprocessing/process.py\", line 93, in run\n",
      "    self._target(*self._args, **self._kwargs)\n",
      "  File \"/Users/justoherreroamoros/anaconda/lib/python3.6/multiprocessing/process.py\", line 93, in run\n",
      "    self._target(*self._args, **self._kwargs)\n",
      "  File \"/Users/justoherreroamoros/anaconda/lib/python3.6/site-packages/OpenSSL/SSL.py\", line 1547, in recv_into\n",
      "    self._raise_ssl_error(self._ssl, result)\n",
      "  File \"<ipython-input-182-367f43a04958>\", line 48, in get_data\n",
      "    time.sleep(limit*step_time)\n",
      "  File \"<ipython-input-162-ea269d7ca3cc>\", line 18, in get_gtrends_index\n",
      "    time.sleep(timesleep)\n",
      "  File \"<ipython-input-182-367f43a04958>\", line 48, in get_data\n",
      "    time.sleep(limit*step_time)\n",
      "  File \"<ipython-input-182-367f43a04958>\", line 48, in get_data\n",
      "    time.sleep(limit*step_time)\n",
      "  File \"/Users/justoherreroamoros/anaconda/lib/python3.6/site-packages/OpenSSL/SSL.py\", line 1353, in _raise_ssl_error\n",
      "    raise WantReadError()\n",
      "KeyboardInterrupt\n",
      "KeyboardInterrupt\n",
      "KeyboardInterrupt\n",
      "KeyboardInterrupt\n",
      "OpenSSL.SSL.WantReadError\n",
      "\n",
      "During handling of the above exception, another exception occurred:\n",
      "\n",
      "Traceback (most recent call last):\n",
      "  File \"/Users/justoherreroamoros/anaconda/lib/python3.6/multiprocessing/process.py\", line 249, in _bootstrap\n",
      "    self.run()\n",
      "  File \"/Users/justoherreroamoros/anaconda/lib/python3.6/multiprocessing/process.py\", line 93, in run\n",
      "    self._target(*self._args, **self._kwargs)\n",
      "  File \"<ipython-input-185-a0a631b5fd6e>\", line 3, in stream_tweets\n",
      "    twitterStream.filter(track=['Bitcoin', 'BTC', 'BTCUSD', 'BTCUSDT'])\n",
      "  File \"/Users/justoherreroamoros/anaconda/lib/python3.6/site-packages/tweepy/streaming.py\", line 445, in filter\n",
      "    self._start(async)\n",
      "  File \"/Users/justoherreroamoros/anaconda/lib/python3.6/site-packages/tweepy/streaming.py\", line 361, in _start\n",
      "    self._run()\n",
      "  File \"/Users/justoherreroamoros/anaconda/lib/python3.6/site-packages/tweepy/streaming.py\", line 263, in _run\n",
      "    self._read_loop(resp)\n",
      "  File \"/Users/justoherreroamoros/anaconda/lib/python3.6/site-packages/tweepy/streaming.py\", line 313, in _read_loop\n",
      "    line = buf.read_line().strip()\n",
      "  File \"/Users/justoherreroamoros/anaconda/lib/python3.6/site-packages/tweepy/streaming.py\", line 179, in read_line\n",
      "    self._buffer += self._stream.read(self._chunk_size)\n",
      "  File \"/Users/justoherreroamoros/anaconda/lib/python3.6/site-packages/requests/packages/urllib3/response.py\", line 380, in read\n",
      "    data = self._fp.read(amt)\n",
      "  File \"/Users/justoherreroamoros/anaconda/lib/python3.6/http/client.py\", line 449, in read\n",
      "    n = self.readinto(b)\n",
      "  File \"/Users/justoherreroamoros/anaconda/lib/python3.6/http/client.py\", line 483, in readinto\n",
      "    return self._readinto_chunked(b)\n",
      "  File \"/Users/justoherreroamoros/anaconda/lib/python3.6/http/client.py\", line 578, in _readinto_chunked\n",
      "    chunk_left = self._get_chunk_left()\n",
      "  File \"/Users/justoherreroamoros/anaconda/lib/python3.6/http/client.py\", line 546, in _get_chunk_left\n",
      "    chunk_left = self._read_next_chunk_size()\n",
      "  File \"/Users/justoherreroamoros/anaconda/lib/python3.6/http/client.py\", line 506, in _read_next_chunk_size\n",
      "    line = self.fp.readline(_MAXLINE + 1)\n",
      "  File \"/Users/justoherreroamoros/anaconda/lib/python3.6/socket.py\", line 586, in readinto\n",
      "    return self._sock.recv_into(b)\n",
      "  File \"/Users/justoherreroamoros/anaconda/lib/python3.6/site-packages/requests/packages/urllib3/contrib/pyopenssl.py\", line 289, in recv_into\n",
      "    rd = util.wait_for_read(self.socket, self.socket.gettimeout())\n",
      "  File \"/Users/justoherreroamoros/anaconda/lib/python3.6/site-packages/requests/packages/urllib3/util/wait.py\", line 33, in wait_for_read\n",
      "    return _wait_for_io_events(socks, EVENT_READ, timeout)\n",
      "  File \"/Users/justoherreroamoros/anaconda/lib/python3.6/site-packages/requests/packages/urllib3/util/wait.py\", line 26, in _wait_for_io_events\n",
      "    selector.select(timeout) if key[1] & events]\n",
      "  File \"/Users/justoherreroamoros/anaconda/lib/python3.6/site-packages/requests/packages/urllib3/util/selectors.py\", line 483, in select\n",
      "    None, max_events, timeout)\n",
      "  File \"/Users/justoherreroamoros/anaconda/lib/python3.6/site-packages/requests/packages/urllib3/util/selectors.py\", line 76, in _syscall_wrapper\n",
      "    result = func(*args, **kwargs)\n",
      "KeyboardInterrupt\n"
     ]
    }
   ],
   "source": [
    "if __name__ == '__main__':\n",
    "    if not os.path.exists(datapath):\n",
    "        os.mkdir(datapath)\n",
    "    \n",
    "    # Launching parallel proceses\n",
    "    p = Process(target=get_data, args=(\"BTC\", \"USDT\", \"1m\", 60, 60,))\n",
    "    p.start()\n",
    "    p2 = Process(target=get_data, args=(\"BTC\", \"USDT\", \"15m\", 4, 900))\n",
    "    p2.start()\n",
    "    p3 = Process(target=get_data, args=(\"BTC\", \"USDT\", \"1h\", 1, 3600))\n",
    "    p3.start()\n",
    "    p4 = Process(target=get_gtrends_index, args=(related_terms, timeframe, 3600))\n",
    "    p4.start()\n",
    "    p5 = Process(target=stream_tweets)\n",
    "    p5.start()"
   ]
  }
 ],
 "metadata": {
  "kernelspec": {
   "display_name": "Python 3",
   "language": "python",
   "name": "python3"
  },
  "language_info": {
   "codemirror_mode": {
    "name": "ipython",
    "version": 3
   },
   "file_extension": ".py",
   "mimetype": "text/x-python",
   "name": "python",
   "nbconvert_exporter": "python",
   "pygments_lexer": "ipython3",
   "version": "3.6.1"
  }
 },
 "nbformat": 4,
 "nbformat_minor": 2
}
